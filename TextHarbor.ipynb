{
 "cells": [
  {
   "cell_type": "markdown",
   "id": "4a9e4d5b-f498-4c32-ab06-b3afa6c4b317",
   "metadata": {},
   "source": [
    "## Data Preprocessing"
   ]
  },
  {
   "cell_type": "code",
   "execution_count": 12,
   "id": "339658d2-563f-4351-b792-810943db7533",
   "metadata": {},
   "outputs": [],
   "source": [
    "import re\n",
    "import string\n",
    "import numpy as np\n",
    "import nltk                         # NLP toolbox\n",
    "from os import getcwd\n",
    "import pandas as pd                 # Library for Dataframes \n",
    "from nltk.corpus import twitter_samples \n",
    "import matplotlib.pyplot as plt     # Library for visualization\n",
    "import numpy as np                  # Library for math function\n",
    "from nltk.corpus import stopwords\n",
    "from nltk.stem import PorterStemmer\n",
    "from nltk.tokenize import TweetTokenizer\n",
    "def process_sentence(sentence):\n",
    "    stemmer = PorterStemmer()\n",
    "    stopwords_english = stopwords.words('english')\n",
    "    # remove stock market tickers like $GE\n",
    "    sentence = re.sub(r'\\$\\w*', '', sentence)\n",
    "    # remove old style retweet text \"RT\"\n",
    "    sentence = re.sub(r'^RT[\\s]+', '', sentence)\n",
    "    # remove hyperlinks\n",
    "    sentence = re.sub(r'https?:\\/\\/.*[\\r\\n]*', '', sentence)\n",
    "    # remove hashtags\n",
    "    # only removing the hash # sign from the word\n",
    "    sentence = re.sub(r'#', '', sentence)\n",
    "    # tokenize tweets\n",
    "    tokenizer = TweetTokenizer(preserve_case=False, strip_handles=True,\n",
    "                               reduce_len=True)\n",
    "    sentence_tokens = tokenizer.tokenize(sentence)\n",
    "\n",
    "    sentence_clean = []\n",
    "    for word in sentence_tokens:\n",
    "        if (word not in stopwords_english and  # remove stopwords\n",
    "                word not in string.punctuation):  # remove punctuation\n",
    "            # tweets_clean.append(word)\n",
    "            stem_word = stemmer.stem(word)  # stemming word\n",
    "            sentence_clean.append(stem_word)\n",
    "\n",
    "    return sentence_clean\n"
   ]
  },
  {
   "cell_type": "code",
   "execution_count": 13,
   "id": "d2740ac1-1158-4d60-8f78-9d6e989522b9",
   "metadata": {},
   "outputs": [],
   "source": [
    "def build_freqs(sentences):\n",
    "    freqs={}\n",
    "    for word in process_sentence(sentences):\n",
    "        if word in freqs:\n",
    "            freqs[word]+=1\n",
    "        else:\n",
    "            freqs[word]=1\n",
    "    return freqs"
   ]
  },
  {
   "cell_type": "code",
   "execution_count": 14,
   "id": "6676fa61-e883-4ba0-a383-00268b5a4b26",
   "metadata": {},
   "outputs": [
    {
     "name": "stderr",
     "output_type": "stream",
     "text": [
      "[nltk_data] Downloading package punkt to\n",
      "[nltk_data]     /Users/jaydaksharora/nltk_data...\n",
      "[nltk_data]   Package punkt is already up-to-date!\n"
     ]
    }
   ],
   "source": [
    "import nltk\n",
    "nltk.download('punkt')\n",
    "def separate_into_sentences(text):\n",
    "    \n",
    "\n",
    "    # Use the sent_tokenize function to split the text into sentences\n",
    "    sentences = nltk.sent_tokenize(text)\n",
    "    \n",
    "    return sentences"
   ]
  },
  {
   "cell_type": "code",
   "execution_count": 15,
   "id": "790811d5-dad8-4c61-87e7-6c4ac56d85be",
   "metadata": {},
   "outputs": [],
   "source": [
    "sen = \"\"\"\n",
    "The International Society for Krishna Consciousness (ISKCON), known colloquially as the Hare Krishna movement, is a Gaudiya Vaishnava Hindu religious organization. It was founded on 13 July 1966 in New York City by A. C. Bhaktivedanta Swami Prabhupada.[2] Its main headquarters is located today in West Bengal, India.\n",
    "\n",
    "Its unique form of monotheistic core beliefs are based on Hindu scriptures, particularly Prabhupada's commentaries and translations of the Bhagavad Gita and the Bhagavata Purana. ISKCON is \"the largest and, arguably, most important branch\" of Gaudiya Vaishnava tradition,[3] which has had adherents in India since the early 16th century and its American and European devotees since the early 1900s.[4] It has around 10 million followers worldwide.[5]\n",
    "\n",
    "The religious organization practices vegetarianism and was initially formed to spread the practice of Bhakti yoga. Its followers, called bhaktas, dedicate both their thoughts and actions towards pleasing Krishna, whom they consider the Supreme Lord Godhead. They regard the rest of Hindu deities as secondary \"demigods\".[6] Its most rapid expansion in registered membership has been within India and (after the collapse of the Soviet Union) in Russia and other formerly Soviet-aligned states of Eastern Europe.[7]\"\"\"\n"
   ]
  },
  {
   "cell_type": "markdown",
   "id": "b64b9bb6-4729-4481-bf95-ef6a76827a79",
   "metadata": {},
   "source": [
    "## 1) Extractive Summarization"
   ]
  },
  {
   "cell_type": "code",
   "execution_count": 16,
   "id": "dada8b53-3046-4af1-9b83-72845e8b18d2",
   "metadata": {},
   "outputs": [],
   "source": [
    "freqs=build_freqs(sen)"
   ]
  },
  {
   "cell_type": "code",
   "execution_count": 17,
   "id": "f579fe21-1536-40c9-bed4-050a575852ac",
   "metadata": {},
   "outputs": [],
   "source": [
    "max_length=max(freqs.values())\n",
    "for word in freqs.keys():\n",
    "    freqs[word]=freqs[word]/max_length"
   ]
  },
  {
   "cell_type": "code",
   "execution_count": 18,
   "id": "3e5432db-336e-46f1-aed6-5f8e4c1c77ef",
   "metadata": {},
   "outputs": [
    {
     "data": {
      "text/plain": [
       "['\\nThe International Society for Krishna Consciousness (ISKCON), known colloquially as the Hare Krishna movement, is a Gaudiya Vaishnava Hindu religious organization.',\n",
       " 'It was founded on 13 July 1966 in New York City by A. C. Bhaktivedanta Swami Prabhupada.',\n",
       " '[2] Its main headquarters is located today in West Bengal, India.',\n",
       " \"Its unique form of monotheistic core beliefs are based on Hindu scriptures, particularly Prabhupada's commentaries and translations of the Bhagavad Gita and the Bhagavata Purana.\",\n",
       " 'ISKCON is \"the largest and, arguably, most important branch\" of Gaudiya Vaishnava tradition,[3] which has had adherents in India since the early 16th century and its American and European devotees since the early 1900s.',\n",
       " '[4] It has around 10 million followers worldwide.',\n",
       " '[5]\\n\\nThe religious organization practices vegetarianism and was initially formed to spread the practice of Bhakti yoga.',\n",
       " 'Its followers, called bhaktas, dedicate both their thoughts and actions towards pleasing Krishna, whom they consider the Supreme Lord Godhead.',\n",
       " 'They regard the rest of Hindu deities as secondary \"demigods\".',\n",
       " '[6] Its most rapid expansion in registered membership has been within India and (after the collapse of the Soviet Union) in Russia and other formerly Soviet-aligned states of Eastern Europe.',\n",
       " '[7]']"
      ]
     },
     "execution_count": 18,
     "metadata": {},
     "output_type": "execute_result"
    }
   ],
   "source": [
    "sentence_tokens=separate_into_sentences(sen)\n",
    "sentence_tokens"
   ]
  },
  {
   "cell_type": "code",
   "execution_count": 19,
   "id": "eaff272a-c18e-4328-bfdd-ad230e2f4ae7",
   "metadata": {},
   "outputs": [
    {
     "name": "stdout",
     "output_type": "stream",
     "text": [
      "{'\\nThe International Society for Krishna Consciousness (ISKCON), known colloquially as the Hare Krishna movement, is a Gaudiya Vaishnava Hindu religious organization.': 0.05284552845528455, 'It was founded on 13 July 1966 in New York City by A. C. Bhaktivedanta Swami Prabhupada.': 0.04166666666666667, '[2] Its main headquarters is located today in West Bengal, India.': 0.05128205128205128, \"Its unique form of monotheistic core beliefs are based on Hindu scriptures, particularly Prabhupada's commentaries and translations of the Bhagavad Gita and the Bhagavata Purana.\": 0.03558052434456928, 'ISKCON is \"the largest and, arguably, most important branch\" of Gaudiya Vaishnava tradition,[3] which has had adherents in India since the early 16th century and its American and European devotees since the early 1900s.': 0.045662100456620995, '[4] It has around 10 million followers worldwide.': 0.04761904761904762, '[5]\\n\\nThe religious organization practices vegetarianism and was initially formed to spread the practice of Bhakti yoga.': 0.04481792717086835, 'Its followers, called bhaktas, dedicate both their thoughts and actions towards pleasing Krishna, whom they consider the Supreme Lord Godhead.': 0.037558685446009384, 'They regard the rest of Hindu deities as secondary \"demigods\".': 0.04301075268817204, '[6] Its most rapid expansion in registered membership has been within India and (after the collapse of the Soviet Union) in Russia and other formerly Soviet-aligned states of Eastern Europe.': 0.03157894736842105, '[7]': 0.1111111111111111}\n"
     ]
    }
   ],
   "source": [
    "sentence_scores = {}\n",
    "\n",
    "for sent in sentence_tokens:\n",
    "    total_score = 0\n",
    "    for word in process_sentence(sent):\n",
    "        if word.lower() in freqs:\n",
    "            total_score += freqs[word.lower()]\n",
    "    \n",
    "    # Normalize the score by sentence length\n",
    "    sentence_scores[sent] = total_score / len(sent)\n",
    "\n",
    "print(sentence_scores)\n"
   ]
  },
  {
   "cell_type": "code",
   "execution_count": 20,
   "id": "56abbc16-0737-4069-b629-00b3c7fb57f8",
   "metadata": {},
   "outputs": [],
   "source": [
    "summary_len = int(len(sentence_tokens)*0.3)\n",
    "final_draft=[]\n",
    "scores=list(sentence_scores.values())\n",
    "for i in range(summary_len):\n",
    "    score=max(scores)\n",
    "    scores.remove(score)\n",
    "    for sentence in sentence_scores.keys() :\n",
    "        if sentence_scores[sentence]==score:\n",
    "            final_draft.append(sentence)"
   ]
  },
  {
   "cell_type": "code",
   "execution_count": 21,
   "id": "59806962-1922-4eb3-90c7-18b3aca34e38",
   "metadata": {},
   "outputs": [],
   "source": [
    "summary = ' '.join(final_draft)"
   ]
  },
  {
   "cell_type": "code",
   "execution_count": 22,
   "id": "8c733232-b46b-4265-a4e6-2c29286b531d",
   "metadata": {},
   "outputs": [
    {
     "data": {
      "text/plain": [
       "'[7] \\nThe International Society for Krishna Consciousness (ISKCON), known colloquially as the Hare Krishna movement, is a Gaudiya Vaishnava Hindu religious organization. [2] Its main headquarters is located today in West Bengal, India.'"
      ]
     },
     "execution_count": 22,
     "metadata": {},
     "output_type": "execute_result"
    }
   ],
   "source": [
    "summary"
   ]
  },
  {
   "cell_type": "code",
   "execution_count": 23,
   "id": "b7bbf0ff-2eac-4fb3-8151-e7d4e53bb2a7",
   "metadata": {},
   "outputs": [
    {
     "data": {
      "text/plain": [
       "1285"
      ]
     },
     "execution_count": 23,
     "metadata": {},
     "output_type": "execute_result"
    }
   ],
   "source": [
    "len(sen)"
   ]
  },
  {
   "cell_type": "code",
   "execution_count": 24,
   "id": "87988058-1a53-4de4-af99-22b06d3f968a",
   "metadata": {},
   "outputs": [
    {
     "data": {
      "text/plain": [
       "234"
      ]
     },
     "execution_count": 24,
     "metadata": {},
     "output_type": "execute_result"
    }
   ],
   "source": [
    "len(summary)"
   ]
  },
  {
   "cell_type": "markdown",
   "id": "250851a0-27ba-4e18-ae80-9ba70dd88c34",
   "metadata": {},
   "source": [
    "## Abstractive Summarization"
   ]
  },
  {
   "cell_type": "code",
   "execution_count": 25,
   "id": "8bf1c5f0-6eeb-4421-914f-141e5f3b25a8",
   "metadata": {},
   "outputs": [],
   "source": [
    "from transformers import PegasusForConditionalGeneration,PegasusTokenizer"
   ]
  },
  {
   "cell_type": "code",
   "execution_count": 26,
   "id": "7a2190c0-ee82-48d3-aa93-129abaefa552",
   "metadata": {},
   "outputs": [],
   "source": [
    "import sentencepiece as spm\n",
    "from transformers import PegasusTokenizer\n",
    "\n",
    "tokenizer = PegasusTokenizer.from_pretrained('google/pegasus-xsum')\n"
   ]
  },
  {
   "cell_type": "code",
   "execution_count": 27,
   "id": "bc9e65c8-8e85-4c8c-9147-8396f3c13669",
   "metadata": {
    "scrolled": true
   },
   "outputs": [
    {
     "name": "stderr",
     "output_type": "stream",
     "text": [
      "Some weights of PegasusForConditionalGeneration were not initialized from the model checkpoint at google/pegasus-xsum and are newly initialized: ['model.decoder.embed_positions.weight', 'model.encoder.embed_positions.weight']\n",
      "You should probably TRAIN this model on a down-stream task to be able to use it for predictions and inference.\n"
     ]
    }
   ],
   "source": [
    "model = PegasusForConditionalGeneration.from_pretrained('google/pegasus-xsum')"
   ]
  },
  {
   "cell_type": "code",
   "execution_count": 28,
   "id": "bb76d99b-f02e-4e5d-b136-bfbdb2e8e74a",
   "metadata": {},
   "outputs": [],
   "source": [
    "tokens=tokenizer(sen,truncation=True, padding=\"longest\",return_tensors=\"pt\")"
   ]
  },
  {
   "cell_type": "code",
   "execution_count": 29,
   "id": "5292879e-023d-4a32-9e1c-93f258bcf8dc",
   "metadata": {},
   "outputs": [
    {
     "data": {
      "text/plain": [
       "{'input_ids': tensor([[  139,  1142,  2377,   118, 19154, 45398,   143,   187, 25275, 15289,\n",
       "           312,   606, 92382,   130,   109, 32034, 19154,  1815,   108,   117,\n",
       "           114, 83791,  4518,  7863,  3855, 81559, 14286,  3503,  1134,   107,\n",
       "           168,   140,  3271,   124,  1428,  1307, 20556,   115,   351,   859,\n",
       "           672,   141,   202,   107,   597,   107, 84648, 27002, 18363, 36864,\n",
       "         69373, 50242,   107,  4101, 50558,  3096,   674,  7243,   117,   746,\n",
       "           380,   115,  1167, 19655,   108,  1144,   107,  3096,   620,   515,\n",
       "           113, 11325,   544, 10855,  1962,  6621,   127,   451,   124, 14286,\n",
       "         28690,   108,  1533, 69373, 50242,   131,   116, 39687,   111, 16207,\n",
       "           113,   109, 94472, 69188,   111,   109, 44885, 52667,   304, 94247,\n",
       "           107,   125, 25275, 15289,   117,   198,   544,  1368,   111,   108,\n",
       "         12488,   108,   205,   356,  4444,   194,   113, 83791,  4518,  7863,\n",
       "          3855, 81559,  3636,   108,  4101, 59740,   162,   148,   196, 74914,\n",
       "           115,  1144,   381,   109,   616,  1195,   307,  1902,   111,   203,\n",
       "           655,   111,  1489, 29229,   381,   109,   616, 12985,   116,   107,\n",
       "          4101, 60708,   168,   148,   279,   377,   604,  5632,  2586,   107,\n",
       "          4101,  1343,  1100,   139,  3503,  1134,  1895, 10062,  2675,   111,\n",
       "           140,  4471,  3373,   112,  2275,   109,   846,   113, 84648,  3717,\n",
       "           107,  3096,  5632,   108,   568, 53063, 50452,   116,   108, 15687,\n",
       "           302,   153,  2279,   111,  2332,  1239, 12083, 19154,   108,  2901,\n",
       "           157,  1037,   109,  5250,  2346, 75786,   107,   322,  4650,   109,\n",
       "          1004,   113, 14286, 45565,   130,  4367,   198,  2534, 46158,   252,\n",
       "           116,  2302,  4101,  1717,  1100,  3096,   205,  4686,  3847,   115,\n",
       "          2451,  3206,   148,   174,   373,  1144,   111,   143,  8109,   109,\n",
       "          9823,   113,   109,  9427,  2539,   158,   115,  3260,   111,   176,\n",
       "         10043,  9427,   121, 47002,  1653,   113,  4424,  1465,   107,  4101,\n",
       "          1954,  1100,     1]]), 'attention_mask': tensor([[1, 1, 1, 1, 1, 1, 1, 1, 1, 1, 1, 1, 1, 1, 1, 1, 1, 1, 1, 1, 1, 1, 1, 1,\n",
       "         1, 1, 1, 1, 1, 1, 1, 1, 1, 1, 1, 1, 1, 1, 1, 1, 1, 1, 1, 1, 1, 1, 1, 1,\n",
       "         1, 1, 1, 1, 1, 1, 1, 1, 1, 1, 1, 1, 1, 1, 1, 1, 1, 1, 1, 1, 1, 1, 1, 1,\n",
       "         1, 1, 1, 1, 1, 1, 1, 1, 1, 1, 1, 1, 1, 1, 1, 1, 1, 1, 1, 1, 1, 1, 1, 1,\n",
       "         1, 1, 1, 1, 1, 1, 1, 1, 1, 1, 1, 1, 1, 1, 1, 1, 1, 1, 1, 1, 1, 1, 1, 1,\n",
       "         1, 1, 1, 1, 1, 1, 1, 1, 1, 1, 1, 1, 1, 1, 1, 1, 1, 1, 1, 1, 1, 1, 1, 1,\n",
       "         1, 1, 1, 1, 1, 1, 1, 1, 1, 1, 1, 1, 1, 1, 1, 1, 1, 1, 1, 1, 1, 1, 1, 1,\n",
       "         1, 1, 1, 1, 1, 1, 1, 1, 1, 1, 1, 1, 1, 1, 1, 1, 1, 1, 1, 1, 1, 1, 1, 1,\n",
       "         1, 1, 1, 1, 1, 1, 1, 1, 1, 1, 1, 1, 1, 1, 1, 1, 1, 1, 1, 1, 1, 1, 1, 1,\n",
       "         1, 1, 1, 1, 1, 1, 1, 1, 1, 1, 1, 1, 1, 1, 1, 1, 1, 1, 1, 1, 1, 1, 1, 1,\n",
       "         1, 1, 1, 1, 1, 1, 1, 1, 1, 1, 1, 1, 1, 1, 1, 1, 1, 1, 1, 1, 1, 1, 1]])}"
      ]
     },
     "execution_count": 29,
     "metadata": {},
     "output_type": "execute_result"
    }
   ],
   "source": [
    "tokens"
   ]
  },
  {
   "cell_type": "code",
   "execution_count": 30,
   "id": "98d8543e-4115-4445-a8d5-4815155519be",
   "metadata": {},
   "outputs": [],
   "source": [
    "summary=model.generate(**tokens)"
   ]
  },
  {
   "cell_type": "code",
   "execution_count": 31,
   "id": "3b158a12-7c37-4cac-b53d-1ff2e5e9de88",
   "metadata": {},
   "outputs": [
    {
     "data": {
      "text/plain": [
       "tensor([[    0,   139,  1142,  2377,   118, 19154, 45398,   143,   187, 25275,\n",
       "         15289,   312,   606, 92382,   130,   109, 32034, 19154,  1815,   108,\n",
       "           117,   114, 83791,  4518,  7863,  3855, 81559, 14286,  3503,  1134,\n",
       "           107,     1]])"
      ]
     },
     "execution_count": 31,
     "metadata": {},
     "output_type": "execute_result"
    }
   ],
   "source": [
    "summary"
   ]
  },
  {
   "cell_type": "code",
   "execution_count": 32,
   "id": "49926205-26f1-47fc-953d-3ea2f5f9651b",
   "metadata": {},
   "outputs": [
    {
     "data": {
      "text/plain": [
       "'<pad>The International Society for Krishna Consciousness (ISKCON), known colloquially as the Hare Krishna movement, is a Gaudiya Vaishnava Hindu religious organization.</s>'"
      ]
     },
     "execution_count": 32,
     "metadata": {},
     "output_type": "execute_result"
    }
   ],
   "source": [
    "tokenizer.decode(summary[0])"
   ]
  },
  {
   "cell_type": "code",
   "execution_count": 33,
   "id": "9a3fcc7c-ee4c-41bf-b2ac-e0a92543081d",
   "metadata": {},
   "outputs": [],
   "source": [
    "from transformers import pipeline \n",
    "summarizer=pipeline(\"summarization\",model=model,tokenizer=tokenizer)"
   ]
  },
  {
   "cell_type": "code",
   "execution_count": 36,
   "id": "fe052516-b8e2-4f2c-a65f-19894bdd98a8",
   "metadata": {},
   "outputs": [
    {
     "name": "stdout",
     "output_type": "stream",
     "text": [
      "Generated summary:\n",
      " The International Society for Krishna Consciousness (ISKCON), known colloquially as the Hare Krishna movement, is a Gaudiya Vaishnava Hindu religious organization. The International Society for Krishna Consciousness (ISKCON), known colloquially as the Hare Krishna movement, was founded on 13 July 1966 in New York City by A. C. Bhaktivedanta Swami Prabhupada, the founder of the International Society for Krishna Consciousness (ISKCON), has died at the age of 100 in the Indian city of Kolkata\n"
     ]
    }
   ],
   "source": [
    "summary = summarizer(sen,max_length=100,min_length=100)\n",
    "print(\"Generated summary:\\n\", summary[0]['summary_text'])\n"
   ]
  },
  {
   "cell_type": "code",
   "execution_count": 37,
   "id": "1d886aa8-8406-40bb-b2ad-40b7c827334a",
   "metadata": {},
   "outputs": [
    {
     "data": {
      "text/plain": [
       "1285"
      ]
     },
     "execution_count": 37,
     "metadata": {},
     "output_type": "execute_result"
    }
   ],
   "source": [
    "len(sen)"
   ]
  },
  {
   "cell_type": "code",
   "execution_count": 41,
   "id": "61329800-1e3f-4aa9-9c16-70ab9896b089",
   "metadata": {},
   "outputs": [
    {
     "data": {
      "text/plain": [
       "494"
      ]
     },
     "execution_count": 41,
     "metadata": {},
     "output_type": "execute_result"
    }
   ],
   "source": [
    "len(summary[0]['summary_text'])"
   ]
  },
  {
   "cell_type": "code",
   "execution_count": null,
   "id": "f7157d13-e75f-4449-a28b-5f03eee0d32b",
   "metadata": {},
   "outputs": [],
   "source": []
  },
  {
   "cell_type": "code",
   "execution_count": null,
   "id": "e35f1803-5715-411d-b0cb-1bfc14a7539e",
   "metadata": {},
   "outputs": [],
   "source": []
  },
  {
   "cell_type": "code",
   "execution_count": null,
   "id": "fe7ee3cd-3636-45ca-ae42-4bd671cb57df",
   "metadata": {},
   "outputs": [],
   "source": []
  },
  {
   "cell_type": "code",
   "execution_count": null,
   "id": "168eb757-8dd8-47f3-acbf-3126a1f11c93",
   "metadata": {},
   "outputs": [],
   "source": []
  },
  {
   "cell_type": "code",
   "execution_count": null,
   "id": "413141c8-87fe-4a55-a8a8-2ccbe2af9eab",
   "metadata": {},
   "outputs": [],
   "source": []
  }
 ],
 "metadata": {
  "kernelspec": {
   "display_name": "Python 3 (ipykernel)",
   "language": "python",
   "name": "python3"
  },
  "language_info": {
   "codemirror_mode": {
    "name": "ipython",
    "version": 3
   },
   "file_extension": ".py",
   "mimetype": "text/x-python",
   "name": "python",
   "nbconvert_exporter": "python",
   "pygments_lexer": "ipython3",
   "version": "3.11.8"
  }
 },
 "nbformat": 4,
 "nbformat_minor": 5
}
